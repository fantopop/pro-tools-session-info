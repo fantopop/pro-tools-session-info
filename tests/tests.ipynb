{
 "cells": [
  {
   "cell_type": "code",
   "execution_count": 1,
   "metadata": {},
   "outputs": [],
   "source": [
    "from session import Session, Track\n",
    "from ipywidgets import interact, interactive\n",
    "from IPython.display import display\n",
    "from os import listdir\n",
    "from os.path import join"
   ]
  },
  {
   "cell_type": "code",
   "execution_count": 2,
   "metadata": {},
   "outputs": [
    {
     "data": {
      "application/vnd.jupyter.widget-view+json": {
       "model_id": "a7b8f2aace7745b5b480c76458f5c746",
       "version_major": 2,
       "version_minor": 0
      },
      "text/plain": [
       "interactive(children=(Dropdown(description='source', options=('sample_session_min_sec.txt', '.DS_Store', 'samp…"
      ]
     },
     "metadata": {},
     "output_type": "display_data"
    }
   ],
   "source": [
    "samples_dir = 'sample_files/'\n",
    "sample_files = listdir(samples_dir)\n",
    "\n",
    "def get_session(source, parse_timecode):\n",
    "    session = Session(join(samples_dir, source), parse_timecode)\n",
    "    print(session)\n",
    "    return session\n",
    "\n",
    "widget = interactive(get_session, source=sample_files, parse_timecode=False)\n",
    "widget"
   ]
  },
  {
   "cell_type": "code",
   "execution_count": 3,
   "metadata": {},
   "outputs": [
    {
     "data": {
      "text/html": [
       "<div>\n",
       "<style scoped>\n",
       "    .dataframe tbody tr th:only-of-type {\n",
       "        vertical-align: middle;\n",
       "    }\n",
       "\n",
       "    .dataframe tbody tr th {\n",
       "        vertical-align: top;\n",
       "    }\n",
       "\n",
       "    .dataframe thead th {\n",
       "        text-align: right;\n",
       "    }\n",
       "</style>\n",
       "<table border=\"1\" class=\"dataframe\">\n",
       "  <thead>\n",
       "    <tr style=\"text-align: right;\">\n",
       "      <th></th>\n",
       "      <th>channel</th>\n",
       "      <th>event</th>\n",
       "      <th>clip_name</th>\n",
       "      <th>start_time</th>\n",
       "      <th>end_time</th>\n",
       "      <th>duration</th>\n",
       "      <th>timestamp</th>\n",
       "      <th>state</th>\n",
       "    </tr>\n",
       "  </thead>\n",
       "  <tbody>\n",
       "    <tr>\n",
       "      <th>0</th>\n",
       "      <td>1</td>\n",
       "      <td>1</td>\n",
       "      <td>A 1_01</td>\n",
       "      <td>00:00:23:01</td>\n",
       "      <td>00:00:23:18</td>\n",
       "      <td>00:00:00:17</td>\n",
       "      <td>00:00:23:01</td>\n",
       "      <td>Unmuted</td>\n",
       "    </tr>\n",
       "    <tr>\n",
       "      <th>1</th>\n",
       "      <td>1</td>\n",
       "      <td>2</td>\n",
       "      <td>A 1_02</td>\n",
       "      <td>00:00:24:11</td>\n",
       "      <td>00:00:25:00</td>\n",
       "      <td>00:00:00:13</td>\n",
       "      <td>00:00:24:11</td>\n",
       "      <td>Unmuted</td>\n",
       "    </tr>\n",
       "  </tbody>\n",
       "</table>\n",
       "</div>"
      ],
      "text/plain": [
       "   channel  event clip_name   start_time     end_time     duration  \\\n",
       "0        1      1    A 1_01  00:00:23:01  00:00:23:18  00:00:00:17   \n",
       "1        1      2    A 1_02  00:00:24:11  00:00:25:00  00:00:00:13   \n",
       "\n",
       "     timestamp    state  \n",
       "0  00:00:23:01  Unmuted  \n",
       "1  00:00:24:11  Unmuted  "
      ]
     },
     "execution_count": 3,
     "metadata": {},
     "output_type": "execute_result"
    }
   ],
   "source": [
    "session = widget.result\n",
    "track = session.track[session.tracks[0]] \n",
    "data = track.data\n",
    "data.head()"
   ]
  },
  {
   "cell_type": "code",
   "execution_count": 4,
   "metadata": {},
   "outputs": [
    {
     "name": "stdout",
     "output_type": "stream",
     "text": [
      "framerate: 24\n",
      "timecode_columns: True\n",
      "track_name: A 1\n",
      "comments: \n",
      "user_delay: 0 Samples\n",
      "state: \n",
      "plugins: ['EQ3 1-Band (mono)', 'Dyn3 Compressor/Limiter (mono)']\n",
      "2 clips\n"
     ]
    }
   ],
   "source": [
    "print(session.track['A 1'])"
   ]
  },
  {
   "cell_type": "code",
   "execution_count": 5,
   "metadata": {},
   "outputs": [
    {
     "data": {
      "text/html": [
       "<div>\n",
       "<style scoped>\n",
       "    .dataframe tbody tr th:only-of-type {\n",
       "        vertical-align: middle;\n",
       "    }\n",
       "\n",
       "    .dataframe tbody tr th {\n",
       "        vertical-align: top;\n",
       "    }\n",
       "\n",
       "    .dataframe thead th {\n",
       "        text-align: right;\n",
       "    }\n",
       "</style>\n",
       "<table border=\"1\" class=\"dataframe\">\n",
       "  <thead>\n",
       "    <tr style=\"text-align: right;\">\n",
       "      <th></th>\n",
       "      <th>#</th>\n",
       "      <th>location</th>\n",
       "      <th>time_reference</th>\n",
       "      <th>units</th>\n",
       "      <th>name</th>\n",
       "      <th>comments</th>\n",
       "    </tr>\n",
       "  </thead>\n",
       "  <tbody>\n",
       "    <tr>\n",
       "      <th>0</th>\n",
       "      <td>1</td>\n",
       "      <td>00:00:23:01</td>\n",
       "      <td>1106000</td>\n",
       "      <td>Samples</td>\n",
       "      <td>Location 1</td>\n",
       "      <td>NaN</td>\n",
       "    </tr>\n",
       "    <tr>\n",
       "      <th>1</th>\n",
       "      <td>2</td>\n",
       "      <td>00:00:23:18</td>\n",
       "      <td>1140000</td>\n",
       "      <td>Samples</td>\n",
       "      <td>Location 2</td>\n",
       "      <td>NaN</td>\n",
       "    </tr>\n",
       "    <tr>\n",
       "      <th>2</th>\n",
       "      <td>3</td>\n",
       "      <td>00:00:24:11</td>\n",
       "      <td>1174000</td>\n",
       "      <td>Samples</td>\n",
       "      <td>Location 3</td>\n",
       "      <td>NaN</td>\n",
       "    </tr>\n",
       "    <tr>\n",
       "      <th>3</th>\n",
       "      <td>4</td>\n",
       "      <td>00:00:25:00</td>\n",
       "      <td>1200000</td>\n",
       "      <td>Samples</td>\n",
       "      <td>Location 4</td>\n",
       "      <td>NaN</td>\n",
       "    </tr>\n",
       "    <tr>\n",
       "      <th>4</th>\n",
       "      <td>5</td>\n",
       "      <td>00:00:32:01</td>\n",
       "      <td>1538000</td>\n",
       "      <td>Samples</td>\n",
       "      <td>Location 5</td>\n",
       "      <td>NaN</td>\n",
       "    </tr>\n",
       "    <tr>\n",
       "      <th>5</th>\n",
       "      <td>6</td>\n",
       "      <td>00:00:33:08</td>\n",
       "      <td>1600000</td>\n",
       "      <td>Samples</td>\n",
       "      <td>Location 6</td>\n",
       "      <td>NaN</td>\n",
       "    </tr>\n",
       "  </tbody>\n",
       "</table>\n",
       "</div>"
      ],
      "text/plain": [
       "   #     location  time_reference    units        name  comments\n",
       "0  1  00:00:23:01         1106000  Samples  Location 1       NaN\n",
       "1  2  00:00:23:18         1140000  Samples  Location 2       NaN\n",
       "2  3  00:00:24:11         1174000  Samples  Location 3       NaN\n",
       "3  4  00:00:25:00         1200000  Samples  Location 4       NaN\n",
       "4  5  00:00:32:01         1538000  Samples  Location 5       NaN\n",
       "5  6  00:00:33:08         1600000  Samples  Location 6       NaN"
      ]
     },
     "execution_count": 5,
     "metadata": {},
     "output_type": "execute_result"
    }
   ],
   "source": [
    "session.section['markers_listing']"
   ]
  },
  {
   "cell_type": "code",
   "execution_count": 11,
   "metadata": {},
   "outputs": [],
   "source": [
    "t = session.track['A 2'].data\n",
    "session.track['A 2'].to_edl()"
   ]
  }
 ],
 "metadata": {
  "kernelspec": {
   "display_name": "Python 3",
   "language": "python",
   "name": "python3"
  },
  "language_info": {
   "codemirror_mode": {
    "name": "ipython",
    "version": 3
   },
   "file_extension": ".py",
   "mimetype": "text/x-python",
   "name": "python",
   "nbconvert_exporter": "python",
   "pygments_lexer": "ipython3",
   "version": "3.8.1"
  }
 },
 "nbformat": 4,
 "nbformat_minor": 4
}
